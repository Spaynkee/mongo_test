{
 "cells": [
  {
   "cell_type": "code",
   "execution_count": 1,
   "metadata": {},
   "outputs": [],
   "source": [
    "import requests\n",
    "import json\n",
    "import pandas as pd\n",
    "import pymongo"
   ]
  },
  {
   "cell_type": "code",
   "execution_count": 2,
   "metadata": {},
   "outputs": [],
   "source": [
    "my_user_data = requests.get(\"http://paulzplace.asuscomm.com/api/get_user_data?name=spaynkee\")"
   ]
  },
  {
   "cell_type": "code",
   "execution_count": 3,
   "metadata": {},
   "outputs": [],
   "source": [
    "stuff = json.loads(my_user_data.text)"
   ]
  },
  {
   "cell_type": "code",
   "execution_count": 4,
   "metadata": {},
   "outputs": [],
   "source": [
    "conn = pymongo.MongoClient()\n",
    "db = conn.lol\n",
    "collection = db.loldata"
   ]
  },
  {
   "cell_type": "code",
   "execution_count": 5,
   "metadata": {},
   "outputs": [
    {
     "data": {
      "text/plain": [
       "<pymongo.results.InsertManyResult at 0x11b0dcfc0>"
      ]
     },
     "execution_count": 5,
     "metadata": {},
     "output_type": "execute_result"
    }
   ],
   "source": [
    "collection.insert_many(stuff)"
   ]
  },
  {
   "cell_type": "code",
   "execution_count": 7,
   "metadata": {},
   "outputs": [],
   "source": [
    "thing = collection.find_one()"
   ]
  },
  {
   "cell_type": "code",
   "execution_count": 8,
   "metadata": {},
   "outputs": [
    {
     "data": {
      "text/plain": [
       "{'_id': ObjectId('5fb0a805b326c630d23c02a0'),\n",
       " 'id': 12329,\n",
       " 'match_id': 3659062835,\n",
       " 'role': 'NONE',\n",
       " 'champion': '240',\n",
       " 'champion_name': 'Kled',\n",
       " 'enemy_champion': '-1',\n",
       " 'enemy_champion_name': 'None',\n",
       " 'first_blood': '0',\n",
       " 'first_blood_assist': '0',\n",
       " 'kills': '9',\n",
       " 'deaths': '1',\n",
       " 'assists': '7',\n",
       " 'damage_to_champs': '7543',\n",
       " 'damage_to_turrets': '264',\n",
       " 'gold_per_minute': '364.6',\n",
       " 'creeps_per_minute': '0.7',\n",
       " 'xp_per_minute': '324.7',\n",
       " 'wards_placed': '7',\n",
       " 'vision_wards_bought': '2',\n",
       " 'wards_killed': '2',\n",
       " 'items': 'Trinity Force, Refillable Potion, Phage, Boots of Speed, Pickaxe, Ruby Crystal, Warding Totem (Trinket)',\n",
       " 'perks': '8010, 9111, 9104, 8014, 8453, 8429',\n",
       " 'win': 'Win'}"
      ]
     },
     "execution_count": 8,
     "metadata": {},
     "output_type": "execute_result"
    }
   ],
   "source": [
    "thing"
   ]
  }
 ],
 "metadata": {
  "kernelspec": {
   "display_name": "venv",
   "language": "python",
   "name": "venv"
  },
  "language_info": {
   "codemirror_mode": {
    "name": "ipython",
    "version": 3
   },
   "file_extension": ".py",
   "mimetype": "text/x-python",
   "name": "python",
   "nbconvert_exporter": "python",
   "pygments_lexer": "ipython3",
   "version": "3.8.5"
  }
 },
 "nbformat": 4,
 "nbformat_minor": 2
}
